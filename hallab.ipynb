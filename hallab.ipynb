{
  "cells": [
    {
      "cell_type": "markdown",
      "metadata": {
        "id": "eYr2bYwEwZ5-"
      },
      "source": [
        "Milestone2\n"
      ]
    },
    {
      "cell_type": "code",
      "source": [
        "import kagglehub\n",
        "from kagglehub import KaggleDatasetAdapter\n",
        "import pandas as pd\n",
        "import numpy as np\n",
        "\n",
        "#kagglehub.login()\n"
      ],
      "metadata": {
        "id": "-BwGODHPwa5Z"
      },
      "execution_count": 1,
      "outputs": []
    },
    {
      "cell_type": "code",
      "source": [
        "#!kaggle datasets download -d tonygordonjr/football-match-statistics-and-more\n",
        "#!unzip /content/football-match-statistics-and-more.zip -d ./"
      ],
      "metadata": {
        "id": "cM6UlONtx90S"
      },
      "execution_count": 2,
      "outputs": []
    },
    {
      "cell_type": "code",
      "execution_count": 3,
      "metadata": {
        "id": "frYvhFDLwZ6A"
      },
      "outputs": [],
      "source": [
        "teams_clean_col = ['fixture_id', 'team_id', 'team_name', 'fouls','yellow_cards', 'red_cards']\n",
        "stats_clean_col = ['fixture_id', 'fixture_date', 'fixture_referee', 'league_id', 'league_name', 'teams_home_id', 'teams_home_name', 'teams_away_id', 'teams_away_name']\n",
        "lineup_clean_col = ['fixture_id', 'fixture_timestamp', 'fixture_referee', 'league_id', 'league_name', 'teams_home_id', 'teams_home_name', 'teams_away_id', 'teams_away_name','player_id', 'player_name', 'player_role']\n",
        "players_clean_col = ['fixture_id', 'team_id', 'team_name', 'player_id', 'player_name', 'fouls_committed', 'yellow_cards', 'red_cards']\n",
        "\n",
        "fix_teams_clean = pd.read_csv(\"fixture_stats_teams_clean.csv\",usecols=teams_clean_col)\n",
        "fix_clean = pd.read_csv(\"fixture_stats_clean.csv\",usecols=stats_clean_col)\n",
        "fix_lineup_clean = pd.read_csv(\"fixture_lineup_clean.csv\",usecols=lineup_clean_col)\n",
        "fix_players_clean = pd.read_csv(\"fixture_stats_players_clean.csv\",usecols=players_clean_col)"
      ]
    },
    {
      "cell_type": "code",
      "source": [
        "import pandas as pd\n",
        "\n",
        "fix_lineup_clean[\"fixture_timestamp\"] = pd.to_datetime(fix_lineup_clean[\"fixture_timestamp\"], unit=\"s\")\n",
        "\n",
        "start_date = pd.Timestamp(\"2022-01-01\")\n",
        "\n",
        "fix_lineup_clean = fix_lineup_clean[fix_lineup_clean[\"fixture_timestamp\"] >= start_date]\n",
        "\n",
        "print(fix_lineup_clean.head())\n",
        "\n"
      ],
      "metadata": {
        "colab": {
          "base_uri": "https://localhost:8080/"
        },
        "id": "iAQ5P9Qo71BP",
        "outputId": "5ade4928-0e40-4725-86e4-d205f6d128ee"
      },
      "execution_count": 5,
      "outputs": [
        {
          "output_type": "stream",
          "name": "stdout",
          "text": [
            "     fixture_id  player_id  player_name  player_role fixture_referee  \\\n",
            "345     1151013    50793.0    A. Sejdić   Substitute        C. Penso   \n",
            "350     1151013    51075.0    J. Willis  Starting XI        C. Penso   \n",
            "988     1151044    51017.0   T. Bunbury  Starting XI       L. Szpala   \n",
            "989     1151044    18884.0  S. Surridge  Starting XI       L. Szpala   \n",
            "990     1151028    20345.0  D. Yearwood  Starting XI        V. Rivas   \n",
            "\n",
            "      fixture_timestamp  league_id          league_name  teams_home_id  \\\n",
            "345 2024-06-19 23:30:00        253  Major League Soccer           1601   \n",
            "350 2024-06-19 23:30:00        253  Major League Soccer           1601   \n",
            "988 2024-06-30 00:30:00        253  Major League Soccer           9569   \n",
            "989 2024-06-30 00:30:00        253  Major League Soccer           9569   \n",
            "990 2024-06-23 00:30:00        253  Major League Soccer           9569   \n",
            "\n",
            "    teams_home_name  teams_away_id   teams_away_name  \n",
            "345      Toronto FC           9569      Nashville SC  \n",
            "350      Toronto FC           9569      Nashville SC  \n",
            "988    Nashville SC           9568       Inter Miami  \n",
            "989    Nashville SC           9568       Inter Miami  \n",
            "990    Nashville SC           1604  New York City FC  \n"
          ]
        }
      ]
    },
    {
      "cell_type": "code",
      "source": [
        "count1 = fix_lineup_clean.shape[0]\n",
        "count3 = fix_clean.shape[0]\n",
        "top_leagues = [\"La Liga\", \"Serie A\", \"Bundesliga\", \"Premier League\"]\n",
        "fix_lineup_clean = fix_lineup_clean[fix_lineup_clean[\"league_name\"].isin(top_leagues)]\n",
        "fix_clean = fix_clean[fix_clean[\"league_name\"].isin(top_leagues)]\n",
        "count2 = fix_lineup_clean.shape[0]\n",
        "count4 = fix_clean.shape[0]\n",
        "print(f\"Number of rows before filtering: {count1}\")\n",
        "print(f\"Number of rows after filtering: {count2}\")\n",
        "print(f\"Number of rows before filtering: {count3}\")\n",
        "print(f\"Number of rows after filtering: {count4}\")"
      ],
      "metadata": {
        "colab": {
          "base_uri": "https://localhost:8080/"
        },
        "id": "DxG8-0zR2-dd",
        "outputId": "acb30ef5-0129-4487-d343-05f8317ca8a0"
      },
      "execution_count": 6,
      "outputs": [
        {
          "output_type": "stream",
          "name": "stdout",
          "text": [
            "Number of rows before filtering: 459651\n",
            "Number of rows after filtering: 179630\n",
            "Number of rows before filtering: 48877\n",
            "Number of rows after filtering: 19755\n"
          ]
        }
      ]
    },
    {
      "cell_type": "code",
      "source": [
        "count1 = fix_players_clean.shape[0]\n",
        "player_ids_to_keep = fix_lineup_clean[\"player_id\"].unique()\n",
        "fix_players_clean = fix_players_clean[fix_players_clean[\"player_id\"].isin(player_ids_to_keep)]\n",
        "count2 = fix_players_clean.shape[0]\n",
        "print(f\"Number of rows before filtering: {count1}\")\n",
        "print(f\"Number of rows after filtering: {count2}\")"
      ],
      "metadata": {
        "colab": {
          "base_uri": "https://localhost:8080/"
        },
        "id": "tYKIDey6687S",
        "outputId": "c3991934-f9cf-495e-d2a3-343f6bfe2259"
      },
      "execution_count": 7,
      "outputs": [
        {
          "output_type": "stream",
          "name": "stdout",
          "text": [
            "Number of rows before filtering: 1113417\n",
            "Number of rows after filtering: 514253\n"
          ]
        }
      ]
    },
    {
      "cell_type": "code",
      "source": [
        "count1 = fix_teams_clean.shape[0]\n",
        "team_ids_to_keep = fix_players_clean[\"team_id\"].unique()\n",
        "fix_teams_clean = fix_teams_clean[fix_teams_clean[\"team_id\"].isin(team_ids_to_keep)]\n",
        "count2 = fix_teams_clean.shape[0]\n",
        "print(f\"Number of rows before filtering: {count1}\")\n",
        "print(f\"Number of rows after filtering: {count2}\")"
      ],
      "metadata": {
        "colab": {
          "base_uri": "https://localhost:8080/"
        },
        "id": "yJWNrRkvBUp1",
        "outputId": "05b93a4b-6798-4a10-b145-e8aeeabe4534"
      },
      "execution_count": 8,
      "outputs": [
        {
          "output_type": "stream",
          "name": "stdout",
          "text": [
            "Number of rows before filtering: 65220\n",
            "Number of rows after filtering: 61708\n"
          ]
        }
      ]
    },
    {
      "cell_type": "code",
      "execution_count": 9,
      "metadata": {
        "id": "HMkIzj6swZ6B"
      },
      "outputs": [],
      "source": [
        "merged = fix_players_clean.merge(fix_lineup_clean, on=\"fixture_id\", how=\"inner\")\n",
        "merged = merged.merge(fix_teams_clean, on=\"fixture_id\", how=\"inner\")\n",
        "merged = merged.merge(fix_clean, on=\"fixture_id\", how=\"inner\")"
      ]
    }
  ],
  "metadata": {
    "kernelspec": {
      "display_name": "venv",
      "language": "python",
      "name": "python3"
    },
    "language_info": {
      "codemirror_mode": {
        "name": "ipython",
        "version": 3
      },
      "file_extension": ".py",
      "mimetype": "text/x-python",
      "name": "python",
      "nbconvert_exporter": "python",
      "pygments_lexer": "ipython3",
      "version": "3.11.9"
    },
    "colab": {
      "provenance": []
    }
  },
  "nbformat": 4,
  "nbformat_minor": 0
}